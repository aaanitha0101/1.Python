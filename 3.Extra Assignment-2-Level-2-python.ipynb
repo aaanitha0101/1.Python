{
 "cells": [
  {
   "cell_type": "code",
   "execution_count": null,
   "id": "11672e0e",
   "metadata": {},
   "outputs": [],
   "source": [
    "for temp in range(0,20):\n",
    "    print(temp)"
   ]
  },
  {
   "cell_type": "code",
   "execution_count": null,
   "id": "782d3a39",
   "metadata": {},
   "outputs": [],
   "source": [
    "for temp in range(10,20):\n",
    "    print(temp, end=\" \")"
   ]
  },
  {
   "cell_type": "code",
   "execution_count": null,
   "id": "af1e6133",
   "metadata": {},
   "outputs": [],
   "source": [
    "list=[10, 20, 14, 55, 43, 87, 76]\n",
    "print(list)\n",
    "print(\"Number of items in the list:\")\n",
    "print(len(list))"
   ]
  },
  {
   "cell_type": "code",
   "execution_count": null,
   "id": "6414c11d",
   "metadata": {},
   "outputs": [],
   "source": [
    "a=\"Artifical Intelligence\"\n",
    "print(a)\n",
    "for temp in a:\n",
    "    print(temp)"
   ]
  },
  {
   "cell_type": "code",
   "execution_count": null,
   "id": "99d6e5b5",
   "metadata": {},
   "outputs": [],
   "source": [
    "tup=(1, 'Welcome', 2, 'Hope')\n",
    "print(tup)"
   ]
  },
  {
   "cell_type": "code",
   "execution_count": null,
   "id": "90c0a268",
   "metadata": {},
   "outputs": [],
   "source": [
    "tup1=(0,1,2,3)\n",
    "tup2=('python','HOPE')\n",
    "tup3=(tup1,tup2)\n",
    "print(tup3)"
   ]
  },
  {
   "cell_type": "code",
   "execution_count": 1,
   "id": "f1425568",
   "metadata": {},
   "outputs": [
    {
     "name": "stdout",
     "output_type": "stream",
     "text": [
      "(20, 10, 16, 19, 25, 1, 276, 188)\n",
      "19 is odd\n",
      "25 is odd\n",
      "1 is odd\n"
     ]
    }
   ],
   "source": [
    "list=[20,10,16,19,25,1,276,188]\n",
    "print(tuple(list))\n",
    "for temp in list:\n",
    "    if (temp%2) != 0:\n",
    "        print(temp,\"is odd\")"
   ]
  },
  {
   "cell_type": "code",
   "execution_count": 6,
   "id": "51fc267c",
   "metadata": {},
   "outputs": [
    {
     "name": "stdout",
     "output_type": "stream",
     "text": [
      "(20, 10, 16, 19, 25, 1, 276, 188)\n",
      "20 is even\n",
      "10 is even\n",
      "16 is even\n",
      "276 is even\n",
      "188 is even\n"
     ]
    }
   ],
   "source": [
    "list=[20,10,16,19,25,1,276,188]\n",
    "print(tuple(list))\n",
    "for temp in list:\n",
    "    if (temp%2) == 0:\n",
    "        print(temp,\"is even\")"
   ]
  },
  {
   "cell_type": "code",
   "execution_count": null,
   "id": "253a9c1a",
   "metadata": {},
   "outputs": [],
   "source": []
  }
 ],
 "metadata": {
  "kernelspec": {
   "display_name": "Python 3 (ipykernel)",
   "language": "python",
   "name": "python3"
  },
  "language_info": {
   "codemirror_mode": {
    "name": "ipython",
    "version": 3
   },
   "file_extension": ".py",
   "mimetype": "text/x-python",
   "name": "python",
   "nbconvert_exporter": "python",
   "pygments_lexer": "ipython3",
   "version": "3.9.12"
  }
 },
 "nbformat": 4,
 "nbformat_minor": 5
}
