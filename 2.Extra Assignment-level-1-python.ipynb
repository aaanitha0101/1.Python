{
 "cells": [
  {
   "cell_type": "code",
   "execution_count": 1,
   "id": "9e4336c4",
   "metadata": {},
   "outputs": [
    {
     "name": "stdout",
     "output_type": "stream",
     "text": [
      "HOPE AI\n"
     ]
    }
   ],
   "source": [
    "print(\"HOPE AI\")"
   ]
  },
  {
   "cell_type": "code",
   "execution_count": 2,
   "id": "592ae0a3",
   "metadata": {},
   "outputs": [
    {
     "name": "stdout",
     "output_type": "stream",
     "text": [
      "Enter your institute name? : HOPE AI\n"
     ]
    }
   ],
   "source": [
    "inst_Name=input(\"Enter your institute name? : \")"
   ]
  },
  {
   "cell_type": "code",
   "execution_count": 3,
   "id": "53a4d7eb",
   "metadata": {},
   "outputs": [
    {
     "name": "stdout",
     "output_type": "stream",
     "text": [
      "Eneter your name: Raj\n",
      "Enetr your age: 15\n",
      "Enetr your school: Guru school\n",
      "Enetr your degree: B.E CSE\n"
     ]
    }
   ],
   "source": [
    "name=input(\"Eneter your name: \")\n",
    "age=int(input(\"Enetr your age: \"))\n",
    "school=input(\"Enetr your school: \")\n",
    "deg=input(\"Enetr your degree: \")"
   ]
  },
  {
   "cell_type": "code",
   "execution_count": 5,
   "id": "a36d7bc0",
   "metadata": {},
   "outputs": [
    {
     "name": "stdout",
     "output_type": "stream",
     "text": [
      "a= 43\n",
      "b= 34\n",
      "add=  77\n"
     ]
    }
   ],
   "source": [
    "a=int(input(\"a= \"))\n",
    "b=int(input(\"b= \"))\n",
    "add=a+b\n",
    "print(\"add= \",add)"
   ]
  },
  {
   "cell_type": "code",
   "execution_count": 6,
   "id": "adc2eb5b",
   "metadata": {},
   "outputs": [
    {
     "name": "stdout",
     "output_type": "stream",
     "text": [
      "a= 43\n",
      "b= 34\n",
      "sub=  9\n"
     ]
    }
   ],
   "source": [
    "a=int(input(\"a= \"))\n",
    "b=int(input(\"b= \"))\n",
    "sub=a-b\n",
    "print(\"sub= \",sub)"
   ]
  },
  {
   "cell_type": "code",
   "execution_count": 7,
   "id": "458ea239",
   "metadata": {},
   "outputs": [
    {
     "name": "stdout",
     "output_type": "stream",
     "text": [
      "a= 63\n",
      "b= 97\n",
      "mul=  6111\n"
     ]
    }
   ],
   "source": [
    "a=int(input(\"a= \"))\n",
    "b=int(input(\"b= \"))\n",
    "mul=a*b\n",
    "print(\"mul= \",mul)"
   ]
  },
  {
   "cell_type": "code",
   "execution_count": 8,
   "id": "2f319344",
   "metadata": {},
   "outputs": [
    {
     "name": "stdout",
     "output_type": "stream",
     "text": [
      "a= 76\n",
      "b= 31\n",
      "Float Div= 2.4516129032258065\n"
     ]
    }
   ],
   "source": [
    "a=int(input(\"a= \"))\n",
    "b=int(input(\"b= \"))\n",
    "div=a/b\n",
    "print(\"Float Div=\",div)"
   ]
  },
  {
   "cell_type": "code",
   "execution_count": 9,
   "id": "5a524db3",
   "metadata": {},
   "outputs": [
    {
     "name": "stdout",
     "output_type": "stream",
     "text": [
      "a= 76\n",
      "b= 31\n",
      "Floor Div= 2\n"
     ]
    }
   ],
   "source": [
    "a=int(input(\"a= \"))\n",
    "b=int(input(\"b= \"))\n",
    "div=a//b\n",
    "print(\"Floor Div=\",div)"
   ]
  },
  {
   "cell_type": "code",
   "execution_count": 10,
   "id": "047c12f9",
   "metadata": {},
   "outputs": [
    {
     "name": "stdout",
     "output_type": "stream",
     "text": [
      "a= 76\n",
      "b= 31\n",
      "Modulo=  14\n"
     ]
    }
   ],
   "source": [
    "a=int(input(\"a= \"))\n",
    "b=int(input(\"b= \"))\n",
    "mod=a%b\n",
    "print(\"Modulo= \",mod)"
   ]
  },
  {
   "cell_type": "code",
   "execution_count": 12,
   "id": "c04d8a2a",
   "metadata": {},
   "outputs": [
    {
     "name": "stdout",
     "output_type": "stream",
     "text": [
      "a= 4\n",
      "b= 4\n",
      "Power=  256\n"
     ]
    }
   ],
   "source": [
    "a=int(input(\"a= \"))\n",
    "b=int(input(\"b= \"))\n",
    "pow=a**b\n",
    "print(\"Power= \",pow)"
   ]
  },
  {
   "cell_type": "code",
   "execution_count": null,
   "id": "d41d2adc",
   "metadata": {},
   "outputs": [],
   "source": []
  }
 ],
 "metadata": {
  "kernelspec": {
   "display_name": "Python 3 (ipykernel)",
   "language": "python",
   "name": "python3"
  },
  "language_info": {
   "codemirror_mode": {
    "name": "ipython",
    "version": 3
   },
   "file_extension": ".py",
   "mimetype": "text/x-python",
   "name": "python",
   "nbconvert_exporter": "python",
   "pygments_lexer": "ipython3",
   "version": "3.9.12"
  }
 },
 "nbformat": 4,
 "nbformat_minor": 5
}
