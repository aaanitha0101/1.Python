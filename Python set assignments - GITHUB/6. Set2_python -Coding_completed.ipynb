{
 "cells": [
  {
   "cell_type": "code",
   "execution_count": null,
   "id": "aba1475d",
   "metadata": {},
   "outputs": [],
   "source": [
    "1.Write a Python program to find the reverse of a string. Expected Output (for input \"hello\"):\n",
    "olleh\n"
   ]
  },
  {
   "cell_type": "code",
   "execution_count": 1,
   "id": "c212d1fd",
   "metadata": {},
   "outputs": [
    {
     "name": "stdout",
     "output_type": "stream",
     "text": [
      "5\n",
      "o l l e h "
     ]
    }
   ],
   "source": [
    "str=\"hello\"\n",
    "l=len(str)\n",
    "print (l)\n",
    "for i in range((l-1),-1,-1):\n",
    "    print(str[i],end=\" \")\n"
   ]
  },
  {
   "cell_type": "code",
   "execution_count": null,
   "id": "5b1ec143",
   "metadata": {},
   "outputs": [],
   "source": [
    "2.Write a Python program to generate the Fibonacci sequence up to 10 terms.\n",
    "Expected Output:\n",
    "0 1 1 2 3 5 8 13 21 34\n",
    "\n"
   ]
  },
  {
   "cell_type": "code",
   "execution_count": 2,
   "id": "9aff42be",
   "metadata": {},
   "outputs": [
    {
     "name": "stdout",
     "output_type": "stream",
     "text": [
      "Enter the number of terms: 10\n",
      "0 1 1 2 3 5 8 13 21 34 "
     ]
    }
   ],
   "source": [
    "num = int(input(\"Enter the number of terms: \"))\n",
    "i1=0\n",
    "i2=1\n",
    "for j in range(num):\n",
    "    print (i1,end=\" \")\n",
    "    i1,i2=i2,i1+i2"
   ]
  },
  {
   "cell_type": "code",
   "execution_count": null,
   "id": "c656f04a",
   "metadata": {},
   "outputs": [],
   "source": [
    "3.Write a Python function to check if a given string is a palindrome.\n",
    "Expected Output (for input \"madam\"):\n",
    "madam is a palindrome\n",
    "\n"
   ]
  },
  {
   "cell_type": "code",
   "execution_count": 46,
   "id": "7fc5682c",
   "metadata": {},
   "outputs": [
    {
     "name": "stdout",
     "output_type": "stream",
     "text": [
      "Enter the string: madam\n",
      "madam\n",
      "madam is a palindrome\n"
     ]
    }
   ],
   "source": [
    "str=input(\"Enter the string: \")\n",
    "l=len(str)\n",
    "r_str=\"\"\n",
    "for i in range((l-1),-1,-1):\n",
    "    r_str=r_str+str[i]\n",
    "print (r_str)\n",
    "if str==r_str:\n",
    "        print(str, \"is a palindrome\")\n",
    "else:\n",
    "        print(str, \"not a palindrome\")\n",
    "  "
   ]
  },
  {
   "cell_type": "code",
   "execution_count": 51,
   "id": "17636589",
   "metadata": {},
   "outputs": [
    {
     "name": "stdout",
     "output_type": "stream",
     "text": [
      "Enter the string: malayalam\n",
      "malayalam\n"
     ]
    }
   ],
   "source": [
    "str=input(\"Enter the string: \")\n",
    "reverse=str[::-1]\n",
    "print(reverse)"
   ]
  },
  {
   "cell_type": "code",
   "execution_count": null,
   "id": "cd7b0a78",
   "metadata": {},
   "outputs": [],
   "source": [
    "\n",
    "\n",
    "4.Write a Python program to count the number of vowels in a given string. \n",
    "Expected Output (for input \"education\"):\n",
    "\n",
    "Number of vowels: 5\n",
    "    \n",
    "\n",
    "\n",
    "\n",
    "\n"
   ]
  },
  {
   "cell_type": "code",
   "execution_count": 83,
   "id": "806acad6",
   "metadata": {},
   "outputs": [
    {
     "name": "stdout",
     "output_type": "stream",
     "text": [
      "5\n",
      "9\n",
      "Number of vowels 5\n"
     ]
    }
   ],
   "source": [
    "vow=['a','e','i','o','u']\n",
    "vl=len(vow)\n",
    "print(vl)\n",
    "str=\"education\"\n",
    "sl=len(str)\n",
    "print (sl)\n",
    "count=0\n",
    "for i in range(0,sl):\n",
    "     for j in range(0,(vl)):\n",
    "        if str[i]==vow[j]:\n",
    "            count+=1\n",
    "print(\"Number of vowels\", count)\n",
    "  "
   ]
  },
  {
   "cell_type": "code",
   "execution_count": null,
   "id": "bdbb9b19",
   "metadata": {},
   "outputs": [],
   "source": [
    "5.Write a Python program to remove duplicates from a list.\n",
    "Expected Output (for input [1, 2, 2, 3, 4, 4, 5]):\n",
    "\n",
    " [1, 2, 3, 4, 5]\n",
    "\n",
    "\n"
   ]
  },
  {
   "cell_type": "code",
   "execution_count": 68,
   "id": "d5375d06",
   "metadata": {},
   "outputs": [
    {
     "name": "stdout",
     "output_type": "stream",
     "text": [
      "Length of the list: 8\n",
      "New list before: []\n",
      "New list after: [1, 2, 3, 4, 5]\n"
     ]
    }
   ],
   "source": [
    "n=[1, 2, 2, 3, 4, 4, 5, 5]\n",
    "l=len(n)\n",
    "print (\"Length of the list:\", l)\n",
    "nl=[]\n",
    "print (\"New list before:\",nl)\n",
    "for i in range(0,l-1):\n",
    "    if (n[i]!=n[i+1]):\n",
    "        nl+=[n[i]]\n",
    "nl+=[n[-1]]\n",
    "print(\"New list after:\",nl)\n",
    "\n",
    "        "
   ]
  }
 ],
 "metadata": {
  "kernelspec": {
   "display_name": "Python 3 (ipykernel)",
   "language": "python",
   "name": "python3"
  },
  "language_info": {
   "codemirror_mode": {
    "name": "ipython",
    "version": 3
   },
   "file_extension": ".py",
   "mimetype": "text/x-python",
   "name": "python",
   "nbconvert_exporter": "python",
   "pygments_lexer": "ipython3",
   "version": "3.9.12"
  }
 },
 "nbformat": 4,
 "nbformat_minor": 5
}
