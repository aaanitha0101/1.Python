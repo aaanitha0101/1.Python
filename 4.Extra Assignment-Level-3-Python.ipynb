{
 "cells": [
  {
   "cell_type": "code",
   "execution_count": 2,
   "id": "5bff31b6",
   "metadata": {},
   "outputs": [
    {
     "name": "stdout",
     "output_type": "stream",
     "text": [
      "Value:10\n",
      "Correct\n"
     ]
    }
   ],
   "source": [
    "val=int(input(\"Value:\"))\n",
    "if (val==10):\n",
    "    print(\"Correct\")"
   ]
  },
  {
   "cell_type": "code",
   "execution_count": 8,
   "id": "9ae5e2d8",
   "metadata": {},
   "outputs": [
    {
     "name": "stdout",
     "output_type": "stream",
     "text": [
      "Enter the password: HOPE@123\n",
      "YOur password is correct\n"
     ]
    }
   ],
   "source": [
    "pswd=input(\"Enter the password: \")\n",
    "if(pswd==\"HOPE@123\"):\n",
    "    print(\"YOur password is correct\")\n",
    "else:\n",
    "    print(\"INcorrect password\")"
   ]
  },
  {
   "cell_type": "code",
   "execution_count": 10,
   "id": "6d187213",
   "metadata": {},
   "outputs": [
    {
     "name": "stdout",
     "output_type": "stream",
     "text": [
      "Age: 20\n",
      "Adult\n"
     ]
    }
   ],
   "source": [
    "age=int(input(\"Age: \"))\n",
    "if(age<18):\n",
    "    print(\"Children\")\n",
    "elif(age<30):\n",
    "    print(\"Adult\")\n",
    "elif(age<60):\n",
    "    print(\"Citizen\")\n",
    "else:\n",
    "    print(\"Senior citizen\")"
   ]
  },
  {
   "cell_type": "code",
   "execution_count": 14,
   "id": "fb98d8ec",
   "metadata": {},
   "outputs": [
    {
     "name": "stdout",
     "output_type": "stream",
     "text": [
      "Enter any number: 1\n",
      "No is positive\n"
     ]
    }
   ],
   "source": [
    "num=int(input(\"Enter any number: \"))\n",
    "if (num<0):\n",
    "    print(\"No is negative\")\n",
    "else:\n",
    "    print(\"No is positive\")"
   ]
  },
  {
   "cell_type": "code",
   "execution_count": 18,
   "id": "dd6dd598",
   "metadata": {},
   "outputs": [
    {
     "name": "stdout",
     "output_type": "stream",
     "text": [
      "Enter a number to check: 22\n",
      "No, num is not divisible by 5\n"
     ]
    }
   ],
   "source": [
    "num=int(input(\"Enter a number to check: \"))\n",
    "if ((num%5)==0):\n",
    "    print(\"Yes, Num is divisible by 5\")\n",
    "else:\n",
    "    print(\"No, num is not divisible by 5\")"
   ]
  },
  {
   "cell_type": "code",
   "execution_count": null,
   "id": "b5b855e6",
   "metadata": {},
   "outputs": [],
   "source": []
  }
 ],
 "metadata": {
  "kernelspec": {
   "display_name": "Python 3 (ipykernel)",
   "language": "python",
   "name": "python3"
  },
  "language_info": {
   "codemirror_mode": {
    "name": "ipython",
    "version": 3
   },
   "file_extension": ".py",
   "mimetype": "text/x-python",
   "name": "python",
   "nbconvert_exporter": "python",
   "pygments_lexer": "ipython3",
   "version": "3.9.12"
  }
 },
 "nbformat": 4,
 "nbformat_minor": 5
}
