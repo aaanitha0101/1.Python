{
 "cells": [
  {
   "cell_type": "code",
   "execution_count": null,
   "id": "ef71aae2",
   "metadata": {},
   "outputs": [],
   "source": [
    "# Create a class and function, and list out the items in the list\n",
    "list=['ML','NN','CV','Robotics','SP','NLP']"
   ]
  },
  {
   "cell_type": "code",
   "execution_count": null,
   "id": "0f010311",
   "metadata": {},
   "outputs": [],
   "source": [
    "def Subfields():\n",
    "    print(\"Sub fields in AI are:\")\n",
    "    for temp in list:\n",
    "        print(temp)\n",
    "        "
   ]
  },
  {
   "cell_type": "code",
   "execution_count": null,
   "id": "46111de2",
   "metadata": {},
   "outputs": [],
   "source": [
    "Subfields()"
   ]
  },
  {
   "cell_type": "code",
   "execution_count": null,
   "id": "1db13625",
   "metadata": {},
   "outputs": [],
   "source": [
    " # Create a function that checks whether the given number is Odd or Even"
   ]
  },
  {
   "cell_type": "code",
   "execution_count": null,
   "id": "4dadf173",
   "metadata": {},
   "outputs": [],
   "source": [
    "def check_num():\n",
    "    num=int(input(\"Enter the number\"))\n",
    "    if (num%2==0):\n",
    "        print(num,\" is even\")\n",
    "        msg=\"Even\"\n",
    "    else:\n",
    "        print(num,\"is odd\")\n",
    "        msg=\"Odd\"\n",
    "    return msg"
   ]
  },
  {
   "cell_type": "code",
   "execution_count": null,
   "id": "c4e93573",
   "metadata": {},
   "outputs": [],
   "source": [
    "message=check_num()"
   ]
  },
  {
   "cell_type": "code",
   "execution_count": null,
   "id": "4d2ce7a4",
   "metadata": {},
   "outputs": [],
   "source": [
    "# Create a function that tells elegibility of marriage for male and female according to thei\n",
    "r age limit like 21 for male and 18 for female\n"
   ]
  },
  {
   "cell_type": "code",
   "execution_count": 3,
   "id": "5e5caa7f",
   "metadata": {},
   "outputs": [],
   "source": [
    "def Elegible():\n",
    "    gen=input(\"Your Gender:\")\n",
    "    age=int(input(\"Your age:\"))\n",
    "    if (gen==\"Male\" and age>21):\n",
    "        print(\"U r a eligible male\")\n",
    "    elif(gen==\"Female\" and age>18):\n",
    "        print(\"U r a eligible female\")\n",
    "    else:\n",
    "        print('u r not an eligible to be married')\n",
    "        "
   ]
  },
  {
   "cell_type": "code",
   "execution_count": 4,
   "id": "fc1eeb76",
   "metadata": {},
   "outputs": [
    {
     "name": "stdout",
     "output_type": "stream",
     "text": [
      "Your Gender:Male\n",
      "Your age:20\n",
      "u r not an eligible to be married\n"
     ]
    }
   ],
   "source": [
    "Elegible()"
   ]
  },
  {
   "cell_type": "code",
   "execution_count": null,
   "id": "4280d34c",
   "metadata": {},
   "outputs": [],
   "source": [
    "# calculate the percentage of your 10th mark"
   ]
  },
  {
   "cell_type": "code",
   "execution_count": 7,
   "id": "20f9e56d",
   "metadata": {},
   "outputs": [],
   "source": [
    "def percentage():\n",
    "    sub1=int(input(\"Subject1=\"))\n",
    "    sub2=int(input(\"Subject2=\"))\n",
    "    sub3=int(input(\"Subject3=\"))\n",
    "    sub4=int(input(\"Subject4=\"))\n",
    "    sub5=int(input(\"Subject5=\"))\n",
    "    tot=sub1+sub2+sub3+sub4+sub5\n",
    "    print(\"Total:\",tot)\n",
    "    percent=(tot/500)*100\n",
    "    print(\"Percentage:\",percent)\n",
    "       "
   ]
  },
  {
   "cell_type": "code",
   "execution_count": 8,
   "id": "e48abd95",
   "metadata": {},
   "outputs": [
    {
     "name": "stdout",
     "output_type": "stream",
     "text": [
      "Subject1=98\n",
      "Subject2=87\n",
      "Subject3=95\n",
      "Subject4=95\n",
      "Subject5=93\n",
      "Total: 468\n",
      "Percentage: 93.60000000000001\n"
     ]
    }
   ],
   "source": [
    "percentage()"
   ]
  },
  {
   "cell_type": "code",
   "execution_count": null,
   "id": "92d833e7",
   "metadata": {},
   "outputs": [],
   "source": [
    "#print area and perimeter of triangle using class and functions"
   ]
  },
  {
   "cell_type": "code",
   "execution_count": 9,
   "id": "a3a28974",
   "metadata": {},
   "outputs": [],
   "source": [
    "def triangle():\n",
    "    h=int(input(\"Eneter the height:\"))\n",
    "    b=int(input(\"ENter the base:\"))\n",
    "    print(\"Area formula: (Height*Breadth)/2\")\n",
    "    area=int(1/2*(b*h))\n",
    "    print(\"Area of triagnle\",area)\n",
    "    s1=int(input(\"Enter len of the side1:\"))\n",
    "    s2=int(input(\"Enter len of the side2:\"))\n",
    "    s3=int(input(\"Enter len of the side3:\"))\n",
    "    print(\"perimeter formula: side1+side2+side3\")\n",
    "    per=s1+s2+s3\n",
    "    print(\"Perimeter of Triangle\",per)\n",
    "    "
   ]
  },
  {
   "cell_type": "code",
   "execution_count": 10,
   "id": "4fd4ad11",
   "metadata": {},
   "outputs": [
    {
     "name": "stdout",
     "output_type": "stream",
     "text": [
      "Eneter the height:32\n",
      "ENter the base:34\n",
      "Area formula: (Height*Breadth)/2\n",
      "Area of triagnle 544\n",
      "Enter len of the side1:2\n",
      "Enter len of the side2:4\n",
      "Enter len of the side3:4\n",
      "perimeter formula: side1+side2+side3\n",
      "Perimeter of Triangle 10\n"
     ]
    }
   ],
   "source": [
    "triangle()"
   ]
  },
  {
   "cell_type": "code",
   "execution_count": null,
   "id": "e84b6270",
   "metadata": {},
   "outputs": [],
   "source": []
  }
 ],
 "metadata": {
  "kernelspec": {
   "display_name": "Python 3 (ipykernel)",
   "language": "python",
   "name": "python3"
  },
  "language_info": {
   "codemirror_mode": {
    "name": "ipython",
    "version": 3
   },
   "file_extension": ".py",
   "mimetype": "text/x-python",
   "name": "python",
   "nbconvert_exporter": "python",
   "pygments_lexer": "ipython3",
   "version": "3.9.12"
  }
 },
 "nbformat": 4,
 "nbformat_minor": 5
}
