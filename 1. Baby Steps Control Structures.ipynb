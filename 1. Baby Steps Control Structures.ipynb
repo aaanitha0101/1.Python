{
 "cells": [
  {
   "cell_type": "code",
   "execution_count": null,
   "id": "b3247d69",
   "metadata": {},
   "outputs": [],
   "source": [
    "print(\"Welcome to Assignment-1\")"
   ]
  },
  {
   "cell_type": "code",
   "execution_count": null,
   "id": "21a1660b",
   "metadata": {},
   "outputs": [],
   "source": [
    "Num1=int(input(\"Num1=\"))\n",
    "Num2=int(input(\"Num2=\"))\n",
    "print(\"Add=\",Num1+Num2)"
   ]
  },
  {
   "cell_type": "code",
   "execution_count": 4,
   "id": "2004ee80",
   "metadata": {},
   "outputs": [
    {
     "name": "stdout",
     "output_type": "stream",
     "text": [
      "Enter the BMI index:34\n",
      "Very overweight\n"
     ]
    }
   ],
   "source": [
    "BMI=int(input(\"Enter the BMI index:\"))\n",
    "if(BMI<10):\n",
    "    print(\"Underweight\")\n",
    "elif(BMI<20):\n",
    "    print(\"Healthy\")\n",
    "elif(BMI<30):\n",
    "    print(\"Overweight\")\n",
    "else:\n",
    "    print(\"Very overweight\")"
   ]
  },
  {
   "cell_type": "code",
   "execution_count": null,
   "id": "77875e9a",
   "metadata": {},
   "outputs": [],
   "source": []
  }
 ],
 "metadata": {
  "kernelspec": {
   "display_name": "Python 3 (ipykernel)",
   "language": "python",
   "name": "python3"
  },
  "language_info": {
   "codemirror_mode": {
    "name": "ipython",
    "version": 3
   },
   "file_extension": ".py",
   "mimetype": "text/x-python",
   "name": "python",
   "nbconvert_exporter": "python",
   "pygments_lexer": "ipython3",
   "version": "3.9.12"
  }
 },
 "nbformat": 4,
 "nbformat_minor": 5
}
