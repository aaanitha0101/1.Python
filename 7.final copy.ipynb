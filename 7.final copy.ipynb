{
 "cells": [
  {
   "cell_type": "code",
   "execution_count": 1,
   "id": "c1f4dafb",
   "metadata": {},
   "outputs": [],
   "source": [
    "from libraryAssignment import libraryImport\n"
   ]
  },
  {
   "cell_type": "code",
   "execution_count": 2,
   "id": "f2a522fa",
   "metadata": {},
   "outputs": [
    {
     "name": "stdout",
     "output_type": "stream",
     "text": [
      "Sub fields in AI are:\n",
      "ML\n",
      "NN\n",
      "CV\n",
      "Robotics\n",
      "SP\n",
      "NLP\n"
     ]
    }
   ],
   "source": [
    "libraryImport.Subfields()\n"
   ]
  },
  {
   "cell_type": "code",
   "execution_count": 3,
   "id": "954293cf",
   "metadata": {},
   "outputs": [
    {
     "name": "stdout",
     "output_type": "stream",
     "text": [
      "Enter the number2536\n",
      "2536  is even\n"
     ]
    },
    {
     "data": {
      "text/plain": [
       "'Even'"
      ]
     },
     "execution_count": 3,
     "metadata": {},
     "output_type": "execute_result"
    }
   ],
   "source": [
    "libraryImport.OddEven()\n"
   ]
  },
  {
   "cell_type": "code",
   "execution_count": 4,
   "id": "98ca78e2",
   "metadata": {},
   "outputs": [
    {
     "name": "stdout",
     "output_type": "stream",
     "text": [
      "Your Gender:Female\n",
      "Your age:17\n",
      "u r not an eligible to be married\n"
     ]
    }
   ],
   "source": [
    "libraryImport.Elegible()\n"
   ]
  },
  {
   "cell_type": "code",
   "execution_count": 5,
   "id": "0810f63e",
   "metadata": {},
   "outputs": [
    {
     "name": "stdout",
     "output_type": "stream",
     "text": [
      "Subject1=85\n",
      "Subject2=65\n",
      "Subject3=78\n",
      "Subject4=68\n",
      "Subject5=50\n",
      "Total: 346\n",
      "Percentage: 69.19999999999999\n"
     ]
    }
   ],
   "source": [
    "libraryImport.percentage()\n"
   ]
  },
  {
   "cell_type": "code",
   "execution_count": 6,
   "id": "717e2170",
   "metadata": {},
   "outputs": [
    {
     "name": "stdout",
     "output_type": "stream",
     "text": [
      "Eneter the height:10\n",
      "ENter the base:10\n",
      "Area formula: (Height*Breadth)/2\n",
      "Area of triagnle 50\n",
      "Enter len of the side1:10\n",
      "Enter len of the side2:10\n",
      "Enter len of the side3:10\n",
      "perimeter formula: side1+side2+side3\n",
      "Perimeter of Triangle 30\n"
     ]
    }
   ],
   "source": [
    "libraryImport.triangle()"
   ]
  },
  {
   "cell_type": "code",
   "execution_count": null,
   "id": "c961740b",
   "metadata": {},
   "outputs": [],
   "source": []
  }
 ],
 "metadata": {
  "kernelspec": {
   "display_name": "Python 3 (ipykernel)",
   "language": "python",
   "name": "python3"
  },
  "language_info": {
   "codemirror_mode": {
    "name": "ipython",
    "version": 3
   },
   "file_extension": ".py",
   "mimetype": "text/x-python",
   "name": "python",
   "nbconvert_exporter": "python",
   "pygments_lexer": "ipython3",
   "version": "3.9.12"
  }
 },
 "nbformat": 4,
 "nbformat_minor": 5
}
