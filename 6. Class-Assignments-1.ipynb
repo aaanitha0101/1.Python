{
 "cells": [
  {
   "cell_type": "code",
   "execution_count": 4,
   "id": "23239f69",
   "metadata": {},
   "outputs": [],
   "source": [
    "class SubfieldsInAI():\n",
    "    def Subfields():\n",
    "        list=['ML','NN','CV','Robotics','SP','NLP']\n",
    "        print(\"Sub fields in AI are:\")\n",
    "        for temp in list:\n",
    "            print(temp)"
   ]
  },
  {
   "cell_type": "code",
   "execution_count": 5,
   "id": "ee69ebf3",
   "metadata": {},
   "outputs": [
    {
     "name": "stdout",
     "output_type": "stream",
     "text": [
      "Sub fields in AI are:\n",
      "ML\n",
      "NN\n",
      "CV\n",
      "Robotics\n",
      "SP\n",
      "NLP\n"
     ]
    }
   ],
   "source": [
    "SubfieldsInAI.Subfields()"
   ]
  },
  {
   "cell_type": "code",
   "execution_count": 9,
   "id": "413f235f",
   "metadata": {},
   "outputs": [],
   "source": [
    "class OddEven():\n",
    "    def OddEven():\n",
    "        num=int(input(\"Enter the number\"))\n",
    "        if (num%2==0):\n",
    "            print(num,\" is even\")\n",
    "            msg=\"Even\"\n",
    "        else:\n",
    "            print(num,\"is odd\")\n",
    "            msg=\"Odd\"\n",
    "        return msg"
   ]
  },
  {
   "cell_type": "code",
   "execution_count": 10,
   "id": "ae04fe65",
   "metadata": {},
   "outputs": [
    {
     "name": "stdout",
     "output_type": "stream",
     "text": [
      "Enter the number52452\n",
      "52452  is even\n"
     ]
    },
    {
     "data": {
      "text/plain": [
       "'Even'"
      ]
     },
     "execution_count": 10,
     "metadata": {},
     "output_type": "execute_result"
    }
   ],
   "source": [
    "OddEven.OddEven()"
   ]
  },
  {
   "cell_type": "code",
   "execution_count": 11,
   "id": "e9702af5",
   "metadata": {},
   "outputs": [],
   "source": [
    "class ElegiblityForMarriage():\n",
    "    def Elegible():\n",
    "        gen=input(\"Your Gender:\")\n",
    "        age=int(input(\"Your age:\"))\n",
    "        if (gen==\"Male\" and age>21):\n",
    "            print(\"U r a eligible male\")\n",
    "        elif(gen==\"Female\" and age>18):\n",
    "            print(\"U r a eligible female\")\n",
    "        else:\n",
    "            print('u r not an eligible to be married')"
   ]
  },
  {
   "cell_type": "code",
   "execution_count": 12,
   "id": "6ddd92e8",
   "metadata": {},
   "outputs": [
    {
     "name": "stdout",
     "output_type": "stream",
     "text": [
      "Your Gender:Male\n",
      "Your age:20\n",
      "u r not an eligible to be married\n"
     ]
    }
   ],
   "source": [
    "ElegiblityForMarriage.Elegible()"
   ]
  },
  {
   "cell_type": "code",
   "execution_count": 13,
   "id": "ce29e402",
   "metadata": {},
   "outputs": [],
   "source": [
    "class FindPercent():\n",
    "    def percentage():\n",
    "        sub1=int(input(\"Subject1=\"))\n",
    "        sub2=int(input(\"Subject2=\"))\n",
    "        sub3=int(input(\"Subject3=\"))\n",
    "        sub4=int(input(\"Subject4=\"))\n",
    "        sub5=int(input(\"Subject5=\"))\n",
    "        tot=sub1+sub2+sub3+sub4+sub5\n",
    "        print(\"Total:\",tot)\n",
    "        percent=(tot/500)*100\n",
    "        print(\"Percentage:\",percent)"
   ]
  },
  {
   "cell_type": "code",
   "execution_count": 14,
   "id": "47527145",
   "metadata": {},
   "outputs": [
    {
     "name": "stdout",
     "output_type": "stream",
     "text": [
      "Subject1=98\n",
      "Subject2=87\n",
      "Subject3=95\n",
      "Subject4=95\n",
      "Subject5=93\n",
      "Total: 468\n",
      "Percentage: 93.60000000000001\n"
     ]
    }
   ],
   "source": [
    "FindPercent.percentage()"
   ]
  },
  {
   "cell_type": "code",
   "execution_count": 15,
   "id": "ad9a7e47",
   "metadata": {},
   "outputs": [],
   "source": [
    "class triangle():\n",
    "    def triangle():\n",
    "        h=int(input(\"Eneter the height:\"))\n",
    "        b=int(input(\"ENter the base:\"))\n",
    "        print(\"Area formula: (Height*Breadth)/2\")\n",
    "        area=int(1/2*(b*h))\n",
    "        print(\"Area of triagnle\",area)\n",
    "        s1=int(input(\"Enter len of the side1:\"))\n",
    "        s2=int(input(\"Enter len of the side2:\"))\n",
    "        s3=int(input(\"Enter len of the side3:\"))\n",
    "        print(\"perimeter formula: side1+side2+side3\")\n",
    "        per=s1+s2+s3\n",
    "        print(\"Perimeter of Triangle\",per)"
   ]
  },
  {
   "cell_type": "code",
   "execution_count": 16,
   "id": "3a852f2c",
   "metadata": {},
   "outputs": [
    {
     "name": "stdout",
     "output_type": "stream",
     "text": [
      "Eneter the height:32\n",
      "ENter the base:34\n",
      "Area formula: (Height*Breadth)/2\n",
      "Area of triagnle 544\n",
      "Enter len of the side1:2\n",
      "Enter len of the side2:4\n",
      "Enter len of the side3:4\n",
      "perimeter formula: side1+side2+side3\n",
      "Perimeter of Triangle 10\n"
     ]
    }
   ],
   "source": [
    "triangle.triangle()"
   ]
  },
  {
   "cell_type": "code",
   "execution_count": null,
   "id": "fb6624ba",
   "metadata": {},
   "outputs": [],
   "source": []
  }
 ],
 "metadata": {
  "kernelspec": {
   "display_name": "Python 3 (ipykernel)",
   "language": "python",
   "name": "python3"
  },
  "language_info": {
   "codemirror_mode": {
    "name": "ipython",
    "version": 3
   },
   "file_extension": ".py",
   "mimetype": "text/x-python",
   "name": "python",
   "nbconvert_exporter": "python",
   "pygments_lexer": "ipython3",
   "version": "3.9.12"
  }
 },
 "nbformat": 4,
 "nbformat_minor": 5
}
